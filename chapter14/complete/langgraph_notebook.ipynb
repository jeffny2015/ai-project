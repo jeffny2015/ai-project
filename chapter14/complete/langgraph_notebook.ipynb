{
 "cells": [
  {
   "cell_type": "markdown",
   "metadata": {},
   "source": [
    "# LangGraph Agent\n",
    "## Without tools"
   ]
  },
  {
   "cell_type": "markdown",
   "metadata": {},
   "source": [
    "## Library Imports"
   ]
  },
  {
   "cell_type": "code",
   "execution_count": 13,
   "metadata": {},
   "outputs": [],
   "source": [
    "from langchain_core.messages import HumanMessage\n",
    "#from langchain_anthropic import ChatAnthropic\n",
    "from dotenv import load_dotenv\n",
    "from langchain_openai import ChatOpenAI\n",
    "from langgraph.checkpoint.memory import MemorySaver\n",
    "from langgraph.graph import END, START, StateGraph, MessagesState\n",
    "import logging\n",
    "from IPython.display import Image, Markdown, display\n",
    "from langchain_core.runnables.graph import CurveStyle, MermaidDrawMethod, NodeStyles"
   ]
  },
  {
   "cell_type": "markdown",
   "metadata": {},
   "source": [
    "## Configure logging"
   ]
  },
  {
   "cell_type": "code",
   "execution_count": 3,
   "metadata": {},
   "outputs": [],
   "source": [
    "for handler in logging.root.handlers[:]:\n",
    "    logging.root.removeHandler(handler)\n",
    "\n",
    "logging.basicConfig(\n",
    "    filename='langgraph_notebook.log',  \n",
    "    level=logging.INFO,\n",
    ")"
   ]
  },
  {
   "cell_type": "markdown",
   "metadata": {},
   "source": [
    "## Configure Agent and Model"
   ]
  },
  {
   "cell_type": "code",
   "execution_count": 14,
   "metadata": {},
   "outputs": [],
   "source": [
    "#model = ChatAnthropic(model=\"claude-3-5-sonnet-20240620\", temperature=0)\n",
    "import os\n",
    "# os.environ[\"OPENAI_API_KEY\"] = \n",
    "load_dotenv()\n",
    "model = ChatOpenAI(model=\"gpt-4o-mini\", temperature=0)\n",
    "\n",
    "\n",
    "def call_model(state: MessagesState):\n",
    "    messages = state['messages']\n",
    "    response = model.invoke(messages)\n",
    "    return {\"messages\": [response]}\n",
    "\n",
    "workflow = StateGraph(MessagesState)\n",
    "\n",
    "workflow.add_node(\"agent\", call_model)\n",
    "\n",
    "workflow.add_edge(START, \"agent\")\n",
    "\n",
    "checkpointer = MemorySaver()\n",
    "\n",
    "app = workflow.compile(checkpointer=checkpointer)"
   ]
  },
  {
   "cell_type": "markdown",
   "metadata": {},
   "source": [
    "## Visualize the Graph"
   ]
  },
  {
   "cell_type": "code",
   "execution_count": 8,
   "metadata": {},
   "outputs": [
    {
     "data": {
      "image/png": "[encoded data removed]",
      "text/plain": [
       "<IPython.core.display.Image object>"
      ]
     },
     "metadata": {},
     "output_type": "display_data"
    }
   ],
   "source": [
    "display(\n",
    "    Image(\n",
    "        app.get_graph().draw_mermaid_png(\n",
    "            draw_method=MermaidDrawMethod.API,\n",
    "        )\n",
    "    )\n",
    ")"
   ]
  },
  {
   "cell_type": "markdown",
   "metadata": {},
   "source": [
    "## Chat with the Agent"
   ]
  },
  {
   "cell_type": "code",
   "execution_count": 15,
   "metadata": {},
   "outputs": [
    {
     "data": {
      "text/markdown": [
       "Joe Montana played for two teams during his NFL career:\n",
       "\n",
       "1. **San Francisco 49ers** (1979–1992): Montana spent the majority of his career with the 49ers, where he became one of the greatest quarterbacks in NFL history, winning four Super Bowl championships (XVI, XIX, XXIII, XXIV) and earning three Super Bowl MVP awards.\n",
       "\n",
       "2. **Kansas City Chiefs** (1993–1994): After leaving the 49ers, Montana played for the Chiefs for two seasons before retiring from professional football.\n",
       "\n",
       "These two teams are where Montana made his mark as a legendary quarterback."
      ],
      "text/plain": [
       "<IPython.core.display.Markdown object>"
      ]
     },
     "metadata": {},
     "output_type": "display_data"
    }
   ],
   "source": [
    "final_state = app.invoke(\n",
    "    {\"messages\": [HumanMessage(content=\"What teams did Joe Montana play for?\")]},\n",
    "    config={\"configurable\": {\"thread_id\": 99}}\n",
    ")\n",
    "display(Markdown(final_state[\"messages\"][-1].content))"
   ]
  },
  {
   "cell_type": "code",
   "execution_count": 10,
   "metadata": {},
   "outputs": [
    {
     "data": {
      "text/markdown": [
       "As of my last update in October 2023, I don't have specific information about the leagues in the SportsWorldCentral fantasy football platform. Fantasy football platforms typically offer various types of leagues, such as:\n",
       "\n",
       "1. **Standard Leagues**: Traditional scoring formats with standard rules.\n",
       "2. **PPR Leagues**: Points Per Reception leagues that award points for each reception.\n",
       "3. **Dynasty Leagues**: Long-term leagues where players are kept from year to year.\n",
       "4. **Keeper Leagues**: Leagues where teams can keep a certain number of players from one season to the next.\n",
       "5. **Best Ball Leagues**: Leagues where you draft a team, and the best-performing players are automatically selected each week without the need for lineup management.\n",
       "\n",
       "For the most accurate and up-to-date information about the specific leagues offered by SportsWorldCentral, I recommend checking their official website or platform directly."
      ],
      "text/plain": [
       "<IPython.core.display.Markdown object>"
      ]
     },
     "metadata": {},
     "output_type": "display_data"
    }
   ],
   "source": [
    "final_state = app.invoke(\n",
    "    {\"messages\": [HumanMessage(content=\"What are the leagues in the SportsWorldCentral fantasy football platform?\")]},\n",
    "    config={\"configurable\": {\"thread_id\": 99}}\n",
    ")\n",
    "display(Markdown(final_state[\"messages\"][-1].content))"
   ]
  },
  {
   "cell_type": "code",
   "execution_count": 11,
   "metadata": {},
   "outputs": [
    {
     "data": {
      "text/markdown": [
       "MyFantasyLeague (MFL) is a popular platform for hosting fantasy football leagues, and it offers a variety of league types and formats to cater to different preferences. Here are some of the common league types you can find on MyFantasyLeague:\n",
       "\n",
       "1. **Standard Leagues**: Traditional leagues with standard scoring rules and roster setups.\n",
       "\n",
       "2. **PPR Leagues**: Points Per Reception leagues that award points for each reception, often with different scoring for running backs, wide receivers, and tight ends.\n",
       "\n",
       "3. **Dynasty Leagues**: Long-term leagues where owners keep most or all of their players from year to year, allowing for a more strategic approach to player management.\n",
       "\n",
       "4. **Keeper Leagues**: Similar to dynasty leagues, but with a limit on the number of players that can be kept each season.\n",
       "\n",
       "5. **Auction Leagues**: Instead of a traditional draft, teams bid on players using a budget, adding a different strategic element to team building.\n",
       "\n",
       "6. **Superflex Leagues**: Leagues that allow teams to start a second quarterback in addition to the standard positions, increasing the value of quarterbacks.\n",
       "\n",
       "7. **IDP Leagues**: Individual Defensive Player leagues where owners draft and manage defensive players separately from offensive players.\n",
       "\n",
       "8. **Best Ball Leagues**: Leagues where owners draft a team but do not manage lineups; the best-performing players are automatically selected each week.\n",
       "\n",
       "9. **Custom Leagues**: MyFantasyLeague allows for extensive customization, so league commissioners can create unique scoring systems, roster configurations, and rules.\n",
       "\n",
       "MyFantasyLeague is known for its flexibility and customization options, making it a popular choice for serious fantasy football players. For the most current offerings and specific league details, it's best to visit the MyFantasyLeague website directly."
      ],
      "text/plain": [
       "<IPython.core.display.Markdown object>"
      ]
     },
     "metadata": {},
     "output_type": "display_data"
    }
   ],
   "source": [
    "final_state = app.invoke(\n",
    "    {\"messages\": [HumanMessage(content=\"What are the leagues in the MyFantasyLeague fantasy football platform?\")]},\n",
    "    config={\"configurable\": {\"thread_id\": 99}}\n",
    ")\n",
    "display(Markdown(final_state[\"messages\"][-1].content))"
   ]
  },
  {
   "cell_type": "markdown",
   "metadata": {},
   "source": []
  }
 ],
 "metadata": {
  "kernelspec": {
   "display_name": "Python 3",
   "language": "python",
   "name": "python3"
  },
  "language_info": {
   "codemirror_mode": {
    "name": "ipython",
    "version": 3
   },
   "file_extension": ".py",
   "mimetype": "text/x-python",
   "name": "python",
   "nbconvert_exporter": "python",
   "pygments_lexer": "ipython3",
   "version": "3.12.1"
  }
 },
 "nbformat": 4,
 "nbformat_minor": 2
}
